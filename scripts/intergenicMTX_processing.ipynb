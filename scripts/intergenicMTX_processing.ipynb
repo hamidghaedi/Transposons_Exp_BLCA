{
 "cells": [
  {
   "cell_type": "code",
   "execution_count": 171,
   "metadata": {},
   "outputs": [],
   "source": [
    "import os\n",
    "import pandas as pd\n",
    "import matplotlib.pyplot as plt\n",
    "import numpy as np\n",
    "import pyreadr\n"
   ]
  },
  {
   "cell_type": "code",
   "execution_count": 172,
   "metadata": {},
   "outputs": [],
   "source": [
    "# Set the float_format parameter to display real numbers without scientific notation\n",
    "pd.set_option('display.float_format', lambda x: '%.10f' % x)"
   ]
  },
  {
   "cell_type": "code",
   "execution_count": 173,
   "metadata": {},
   "outputs": [],
   "source": [
    "os.chdir(\"C:\\\\Users\\\\qaedi\\\\Documents\\\\\")"
   ]
  },
  {
   "cell_type": "code",
   "execution_count": 176,
   "metadata": {},
   "outputs": [],
   "source": [
    "# load datasets needed for proccesing\n",
    "intg = pd.read_csv(\"interg_tes.tsv.gz\", sep=\"\\t\", index_col=0) # This is the manin matrix and coming from intergenicMTX_maker.py \n",
    "# annotation data\n",
    "rmsk_int=pd.read_csv(\"te_intergenic_rmsk.tsv\", sep=\"\\t\")\n",
    "column_names = ['Name', 'LociNumber', 'RepName', 'RepClass', 'repFamily', 'LocusType', \"Coordinates\"]\n",
    "rmsk_int.columns = column_names\n",
    "\n",
    "# id map\n",
    "id_map=pyreadr.read_r(\"id_map.RDS\")\n",
    "id_map=pd.DataFrame(id_map[None])\n",
    "# create a new column in id_map for mapping between sf file names and barcode\n",
    "id_map['sf_fname'] = id_map['file_name'].apply(lambda x: x.replace('.bam', '.sf'))"
   ]
  },
  {
   "cell_type": "code",
   "execution_count": 181,
   "metadata": {},
   "outputs": [
    {
     "name": "stdout",
     "output_type": "stream",
     "text": [
      "Summary of TE counts:\n",
      "count   326160.0000000000\n",
      "mean        97.8369131888\n",
      "std       1896.6365451730\n",
      "min          0.0000000140\n",
      "25%          3.0000000000\n",
      "50%          8.0000000000\n",
      "75%         26.0000000000\n",
      "max     710227.1681000001\n",
      "Name: count, dtype: float64\n"
     ]
    },
    {
     "data": {
      "image/png": "[encoded data removed]",
      "text/plain": [
       "<Figure size 640x480 with 1 Axes>"
      ]
     },
     "metadata": {},
     "output_type": "display_data"
    }
   ],
   "source": [
    "# Summary stat\n",
    "# elements with lociNumber > count in the whole cohort should be dropped\n",
    "dat = pd.DataFrame({'Name': intg.index,'count': intg.sum(axis=1)\n",
    "})\n",
    "print(\"Summary of TE counts:\")\n",
    "print(dat['count'].describe())\n",
    "\n",
    "# Transform 'count' values to log10\n",
    "log_count= np.log10(dat['count'])\n",
    "\n",
    "# Create a histogram of the log-transformed 'count' column\n",
    "plt.hist(log_count, bins=10, color='skyblue', edgecolor='black')\n",
    "\n",
    "# Add labels and a title\n",
    "plt.xlabel('Log10(Count)')\n",
    "plt.ylabel('Frequency')\n",
    "plt.title('Histogram of Log10-Transformed Count Column')\n",
    "\n",
    "# Show the histogram\n",
    "plt.show()"
   ]
  },
  {
   "cell_type": "code",
   "execution_count": 182,
   "metadata": {},
   "outputs": [],
   "source": [
    "# prepare datasets\n",
    "\n",
    "dat_merged = pd.merge(dat, rmsk_int, on='Name', how='left')\n",
    "\n",
    "# Split the 'Coordinates' column and explode it into multiple rows\n",
    "dat_merged['Coordinates'] = dat_merged['Coordinates'].str.split(',')\n",
    "dat_merged = dat_merged.explode('Coordinates')\n",
    "\n",
    "# craetea uique name out of loci and names\n",
    "dat_merged['unique_name']= dat_merged['RepName']+ \"|\" +  dat_merged['repFamily']+ \"|\" +  dat_merged['RepClass']+ \"|\" + dat_merged['Coordinates']\n",
    "# to drop names \n",
    "to_drop = list(set(dat_merged[dat_merged['LociNumber'] > dat_merged['count']].iloc[:, 0]))\n",
    "oneLoci_names = list(set(dat_merged[dat_merged['LociNumber'] == 1].iloc[:, 0]))\n",
    "mLoci_names = list(set(dat_merged[dat_merged['LociNumber'] > 1].iloc[:, 0]))"
   ]
  },
  {
   "cell_type": "markdown",
   "metadata": {},
   "source": [
    "#### Rules to process files\n",
    "\n",
    "1. TEs with number of loci > sum of count in all samples, are dropped\n",
    "2. For multi loci TEs, read counts are divided by the loci number"
   ]
  },
  {
   "cell_type": "code",
   "execution_count": 189,
   "metadata": {},
   "outputs": [],
   "source": [
    "# Start processing \n",
    "\n",
    "# to drop indexes in to_drop\n",
    "intg_lowCount_dropped=intg[~intg.index.isin(to_drop)]\n",
    "# subset for lociNumber 1\n",
    "oneL = intg_lowCount_dropped[intg_lowCount_dropped.index.isin(oneLoci_names)]\n",
    "# subset for lociNumber > 1\n",
    "unprocessed_mLoci = intg_lowCount_dropped[intg_lowCount_dropped.index.isin(mLoci_names)]\n"
   ]
  },
  {
   "cell_type": "code",
   "execution_count": 190,
   "metadata": {},
   "outputs": [],
   "source": [
    "# processing one locus elements\n",
    "\n",
    "# Create a mapping dictionary from 'Name' to 'unique_name'\n",
    "row_mapping_dict = dict(zip(dat_merged['Name'], dat_merged['unique_name']))\n",
    "col_mapping_dict = dict(zip(id_map['sf_fname'], id_map['cases']))\n",
    "# Maping \n",
    "oneL.index = oneL.index.map(row_mapping_dict)\n",
    "oneL.columns = oneL.columns.map(col_mapping_dict)\n"
   ]
  },
  {
   "cell_type": "code",
   "execution_count": 195,
   "metadata": {},
   "outputs": [],
   "source": [
    "# multi loci processing\n",
    "\n",
    "mLoci_merged = pd.merge(unprocessed_mLoci, dat_merged, left_index=True, right_on='Name', how='left')\n",
    "# Convert the relevant columns to numeric types\n",
    "mLoci_merged ['LociNumber'] = pd.to_numeric(mLoci_merged ['LociNumber'], errors='coerce')\n",
    "mLoci_merged.iloc[:, [0, mLoci.shape[1]]] = mLoci_merged.iloc[:, [0, mLoci.shape[1]]].apply(pd.to_numeric, errors='coerce')\n",
    "\n",
    "# Perform the division\n",
    "mLoci_merged.iloc[:, [0, mLoci.shape[1]]] = mLoci_merged.iloc[:, [0, mLoci.shape[1]]].div(mLoci_merged['LociNumber'], axis=0)\n",
    "# reset index\n",
    "mLoci_merged.set_index('unique_name', inplace=True)\n",
    "# Set the name of the index to None\n",
    "mLoci_merged.index.name = None\n",
    "# subset\n",
    "mLoci = mLoci_merged[unprocessed_mLoci.columns.tolist()]\n",
    "# mapping column names\n",
    "mLoci.columns = mLoci.columns.map(col_mapping_dict)\n"
   ]
  },
  {
   "cell_type": "code",
   "execution_count": 199,
   "metadata": {},
   "outputs": [],
   "source": [
    "# Saving the result\n",
    "# Concatenate mLoci to oneL without ignoring indices\n",
    "result_df = pd.concat([oneL, mLoci], ignore_index=False)\n",
    "\n",
    "# Write the resulting DataFrame to a CSV file in gz format\n",
    "result_df.to_csv('RE_intergenic_4_loci_raw_counts', compression='gzip')"
   ]
  }
 ],
 "metadata": {
  "kernelspec": {
   "display_name": "base",
   "language": "python",
   "name": "python3"
  },
  "language_info": {
   "codemirror_mode": {
    "name": "ipython",
    "version": 3
   },
   "file_extension": ".py",
   "mimetype": "text/x-python",
   "name": "python",
   "nbconvert_exporter": "python",
   "pygments_lexer": "ipython3",
   "version": "3.9.13"
  }
 },
 "nbformat": 4,
 "nbformat_minor": 2
}
