{
 "cells": [
  {
   "cell_type": "code",
   "execution_count": 1,
   "metadata": {},
   "outputs": [],
   "source": [
    "import pandas as pd\n",
    "import numpy as np\n",
    "import pyreadr\n",
    "from scipy.stats import pearsonr\n",
    "from tqdm import tqdm\n"
   ]
  },
  {
   "cell_type": "code",
   "execution_count": 2,
   "metadata": {},
   "outputs": [],
   "source": [
    "te_vst = pyreadr.read_r(\"C:/Users/qaedi/OneDrive - Queen's University/Documents/LINE1-BLCA/r_objects/te_vst.RDS\")\n",
    "data_gsva =pyreadr.read_r(\"C:/Users/qaedi/OneDrive - Queen's University/Documents/LINE1-BLCA/r_objects/data.gsva_3k_pathways.RDS\")"
   ]
  },
  {
   "cell_type": "code",
   "execution_count": 3,
   "metadata": {},
   "outputs": [],
   "source": [
    "# convert to df\n",
    "te_vst=pd.DataFrame(te_vst[None])\n",
    "data_gsva= pd.DataFrame(data_gsva[None])"
   ]
  },
  {
   "cell_type": "code",
   "execution_count": 4,
   "metadata": {},
   "outputs": [],
   "source": [
    "# transpose the data_gsva\n",
    "data_gsva = data_gsva.T\n",
    "#data_gsva.head()"
   ]
  },
  {
   "cell_type": "code",
   "execution_count": 6,
   "metadata": {},
   "outputs": [
    {
     "name": "stdout",
     "output_type": "stream",
     "text": [
      "Row names are already the same.\n"
     ]
    }
   ],
   "source": [
    "# Check if row names are the same\n",
    "if te_vst.index.equals(data_gsva.index):\n",
    "    print(\"Row names are already the same.\")\n",
    "else:\n",
    "    # Update row names to match\n",
    "    te_vst.index = data_gsva.index\n",
    "    print(\"Row names have been updated to match.\")\n",
    "\n",
    "# Now both DataFrames have the same row names\n"
   ]
  },
  {
   "cell_type": "code",
   "execution_count": 11,
   "metadata": {},
   "outputs": [
    {
     "name": "stderr",
     "output_type": "stream",
     "text": [
      "Processing:   1%|          | 39096/3612843 [01:14<2:17:16, 433.90it/s]"
     ]
    }
   ],
   "source": [
    "# Create an empty DataFrame to store results\n",
    "result_df = pd.DataFrame(columns=['geneSignature', 'TE', 'correlation_coefficient', 'p_value'])\n",
    "\n",
    "# Calculate correlation and extract statistics\n",
    "with tqdm(total=len(te_vst.columns) * len(data_gsva.columns), desc=\"Processing\") as pbar:\n",
    "    for te_column in te_vst.columns:\n",
    "        for gsva_column in data_gsva.columns:\n",
    "            # Extract the columns\n",
    "            x = te_vst[te_column]\n",
    "            y = data_gsva[gsva_column]\n",
    "\n",
    "            # Calculate the correlation\n",
    "            correlation_coefficient, p_value = pearsonr(x, y)\n",
    "\n",
    "            # Store the results in the DataFrame\n",
    "            result_df = result_df.append({\n",
    "                'geneSignature': gsva_column,\n",
    "                'TE': te_column,\n",
    "                'correlation_coefficient': correlation_coefficient,\n",
    "                'p_value': p_value\n",
    "            }, ignore_index=True)\n",
    "\n",
    "            # Increment the progress bar\n",
    "            pbar.update(1)\n"
   ]
  },
  {
   "cell_type": "code",
   "execution_count": 10,
   "metadata": {},
   "outputs": [],
   "source": [
    "from tqdm import tqdm\n"
   ]
  }
 ],
 "metadata": {
  "kernelspec": {
   "display_name": "base",
   "language": "python",
   "name": "python3"
  },
  "language_info": {
   "codemirror_mode": {
    "name": "ipython",
    "version": 3
   },
   "file_extension": ".py",
   "mimetype": "text/x-python",
   "name": "python",
   "nbconvert_exporter": "python",
   "pygments_lexer": "ipython3",
   "version": "3.9.13"
  }
 },
 "nbformat": 4,
 "nbformat_minor": 2
}
